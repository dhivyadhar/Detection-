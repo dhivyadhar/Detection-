{
 "cells": [
  {
   "cell_type": "markdown",
   "id": "698d2459-bf37-45e9-ba2d-296b62ab7d09",
   "metadata": {},
   "source": [
    "# PHASE 2 : INNOVATION\n",
    "\n",
    "***************************************************************************************************************\n",
    "\n",
    "PROJECT TITLE 9238 - FAKE NEWS DETECTION USING NLP\n",
    "\n",
    "NAME - DHIVYADHARSHINI A\n",
    "\n",
    "TEAM ID - 5275\n",
    "\n",
    "TEAM NAME - Proj_204221_Team_2\n",
    "\n",
    "COLLEGE CODE - NAME : 9238 - MANGAYARKARASI COLLEGE OF ENGINEERING PARAVAI, MADURAI.\n",
    "\n",
    "GROUP : 5\n",
    "\n",
    "GITHUB REPOSITORY LINK : https://github.com/dhivyadhar/IBM_AI.git\n",
    "\n",
    "***************************************************************************************************************\n"
   ]
  },
  {
   "cell_type": "markdown",
   "id": "0d535238-87cc-4250-bca5-1103d396c657",
   "metadata": {},
   "source": [
    "# ABSTRACT :\n",
    "\n",
    "The abstract for a fake news detection web application using NLP would be a concise summary of the project's key aspects and objectives. Here's an example:\r\n",
    "\r\n",
    "\"In the era of digital information, the proliferation of fake news has become a critical issue. This project presents a web application leveraging Natural Language Processing (NLP) techniques to detect fake news articles. The application employs machine learning models to analyze and classify news content, providing users with a reliable tool to assess the credibility of online information sources. Through the integration of NLP, user-friendly interfaces, and real-time analysis, this web application aims to contribute to the fight against misinformation in the digital age.\""
   ]
  },
  {
   "cell_type": "markdown",
   "id": "5d0aa977-2681-4588-8b26-a66711af1b83",
   "metadata": {},
   "source": [
    "# PROPOSAL : \n",
    "        Phase 2 of our Fake News Detection project aims to build upon the foundation of Phase 1 and advance the state-of-the-art in NLP-based fake news detection. \n",
    "        By improving accuracy, enabling real-time monitoring, supporting multiple languages, and enhancing user engagement, we hope to make a substantial contribution to combating the spread of fake news in the digital age. We seek support and funding to carry out this critical initiative."
   ]
  },
  {
   "cell_type": "markdown",
   "id": "8886847c-927e-4915-ab8c-4110dd172bda",
   "metadata": {},
   "source": [
    "# DESCRIPTION FOR THE PACKAGES:\n",
    "           The code snippet provided imports essential Python libraries for data analysis and visualization, including pandas, numpy, matplotlib, and seaborn. It also imports natural language processing tools from NLTK, such as stopwords and PorterStemmer, indicating potential text analysis tasks. Additionally, the code imports regular expressions (re) and initializes NLTK. This combination of libraries suggests the code may be used for data preprocessing and analysis, including text data manipulation and visualization."
   ]
  },
  {
   "cell_type": "code",
   "execution_count": 4,
   "id": "9f461770-a543-4ab3-af6d-4abc8f40f67d",
   "metadata": {},
   "outputs": [],
   "source": [
    "import pandas as pd\n",
    "import numpy as np\n",
    "import matplotlib.pyplot as plt\n",
    "import seaborn as sns\n",
    "from nltk.corpus import stopwords  # Add this import\n",
    "from nltk.stem import PorterStemmer\n",
    "import nltk\n",
    "import re"
   ]
  },
  {
   "cell_type": "markdown",
   "id": "6f5194f0-f9cb-4e39-8c34-d4db2ba88f49",
   "metadata": {},
   "source": [
    "# NLTK.DOWNLOAD :\n",
    "         Downloading NLTK data is necessary when working with NLTK for various natural language processing tasks. NLTK (Natural Language Toolkit) provides a wide range of resources like corpora, models, and dictionaries for text analysis. Here are some reasons why downloading NLTK data is necessary:\n",
    "            For Access to Pre-trained Models,Corpora,Stopwords and Stemming,Lexical Resources,Learning and Research.[nltk.download()] "
   ]
  },
  {
   "cell_type": "code",
   "execution_count": 5,
   "id": "7b660860-caf3-403b-ada3-875d68532bf5",
   "metadata": {},
   "outputs": [
    {
     "name": "stderr",
     "output_type": "stream",
     "text": [
      "[nltk_data] Downloading package stopwords to\n",
      "[nltk_data]     C:\\Users\\ELCOT\\AppData\\Roaming\\nltk_data...\n",
      "[nltk_data]   Package stopwords is already up-to-date!\n"
     ]
    },
    {
     "data": {
      "text/plain": [
       "True"
      ]
     },
     "execution_count": 5,
     "metadata": {},
     "output_type": "execute_result"
    }
   ],
   "source": [
    "nltk.download('stopwords')"
   ]
  },
  {
   "cell_type": "code",
   "execution_count": 6,
   "id": "ad1e1b85",
   "metadata": {},
   "outputs": [
    {
     "name": "stderr",
     "output_type": "stream",
     "text": [
      "[nltk_data] Downloading package stopwords to /home...\n",
      "[nltk_data]   Package stopwords is already up-to-date!\n"
     ]
    },
    {
     "data": {
      "text/plain": [
       "True"
      ]
     },
     "execution_count": 6,
     "metadata": {},
     "output_type": "execute_result"
    }
   ],
   "source": [
    "nltk.download('stopwords', download_dir='/home')\n"
   ]
  },
  {
   "cell_type": "markdown",
   "id": "6d9ba872-b79d-4df4-a818-7447d1e15730",
   "metadata": {},
   "source": [
    "# LOADING THE DATASET:\n",
    "To load a fake news detection dataset that contains both true and fake news articles, you'll typically use a Python library like pandas to handle the dataset. You can assume that the dataset is stored in a CSV file format"
   ]
  },
  {
   "cell_type": "code",
   "execution_count": 7,
   "id": "004a1395",
   "metadata": {},
   "outputs": [],
   "source": [
    "# Load the fake news dataset\n",
    "fake_data = pd.read_csv('fake.csv')\n",
    "# Load the true news dataset\n",
    "true_data = pd.read_csv('true.csv')"
   ]
  },
  {
   "cell_type": "code",
   "execution_count": 8,
   "id": "0022ec58",
   "metadata": {},
   "outputs": [
    {
     "name": "stdout",
     "output_type": "stream",
     "text": [
      "\n",
      " TRUE DATA \n",
      "\n",
      "\n",
      " FAKE DATA \n",
      "\n"
     ]
    },
    {
     "data": {
      "text/html": [
       "<div>\n",
       "<style scoped>\n",
       "    .dataframe tbody tr th:only-of-type {\n",
       "        vertical-align: middle;\n",
       "    }\n",
       "\n",
       "    .dataframe tbody tr th {\n",
       "        vertical-align: top;\n",
       "    }\n",
       "\n",
       "    .dataframe thead th {\n",
       "        text-align: right;\n",
       "    }\n",
       "</style>\n",
       "<table border=\"1\" class=\"dataframe\">\n",
       "  <thead>\n",
       "    <tr style=\"text-align: right;\">\n",
       "      <th></th>\n",
       "      <th>title</th>\n",
       "      <th>text</th>\n",
       "      <th>subject</th>\n",
       "      <th>date</th>\n",
       "    </tr>\n",
       "  </thead>\n",
       "  <tbody>\n",
       "    <tr>\n",
       "      <th>0</th>\n",
       "      <td>Donald Trump Sends Out Embarrassing New Year’...</td>\n",
       "      <td>Donald Trump just couldn t wish all Americans ...</td>\n",
       "      <td>News</td>\n",
       "      <td>December 31, 2017</td>\n",
       "    </tr>\n",
       "    <tr>\n",
       "      <th>1</th>\n",
       "      <td>Drunk Bragging Trump Staffer Started Russian ...</td>\n",
       "      <td>House Intelligence Committee Chairman Devin Nu...</td>\n",
       "      <td>News</td>\n",
       "      <td>December 31, 2017</td>\n",
       "    </tr>\n",
       "    <tr>\n",
       "      <th>2</th>\n",
       "      <td>Sheriff David Clarke Becomes An Internet Joke...</td>\n",
       "      <td>On Friday, it was revealed that former Milwauk...</td>\n",
       "      <td>News</td>\n",
       "      <td>December 30, 2017</td>\n",
       "    </tr>\n",
       "    <tr>\n",
       "      <th>3</th>\n",
       "      <td>Trump Is So Obsessed He Even Has Obama’s Name...</td>\n",
       "      <td>On Christmas day, Donald Trump announced that ...</td>\n",
       "      <td>News</td>\n",
       "      <td>December 29, 2017</td>\n",
       "    </tr>\n",
       "  </tbody>\n",
       "</table>\n",
       "</div>"
      ],
      "text/plain": [
       "                                               title  \\\n",
       "0   Donald Trump Sends Out Embarrassing New Year’...   \n",
       "1   Drunk Bragging Trump Staffer Started Russian ...   \n",
       "2   Sheriff David Clarke Becomes An Internet Joke...   \n",
       "3   Trump Is So Obsessed He Even Has Obama’s Name...   \n",
       "\n",
       "                                                text subject  \\\n",
       "0  Donald Trump just couldn t wish all Americans ...    News   \n",
       "1  House Intelligence Committee Chairman Devin Nu...    News   \n",
       "2  On Friday, it was revealed that former Milwauk...    News   \n",
       "3  On Christmas day, Donald Trump announced that ...    News   \n",
       "\n",
       "                date  \n",
       "0  December 31, 2017  \n",
       "1  December 31, 2017  \n",
       "2  December 30, 2017  \n",
       "3  December 29, 2017  "
      ]
     },
     "execution_count": 8,
     "metadata": {},
     "output_type": "execute_result"
    }
   ],
   "source": [
    "print(\"\\n TRUE DATA \\n\")\n",
    "true_data[0:10]\n",
    "print(\"\\n FAKE DATA \\n\")\n",
    "\n",
    "fake_data[0:4]"
   ]
  },
  {
   "cell_type": "code",
   "execution_count": 9,
   "id": "23acdd75",
   "metadata": {},
   "outputs": [
    {
     "name": "stdout",
     "output_type": "stream",
     "text": [
      "WASHINGTON (Reuters) - The head of a conservative Republican faction in the U.S. Congress, who voted this month for a huge expansion of the national debt to pay for tax cuts, called himself a “fiscal conservative” on Sunday and urged budget restraint in 2018. In keeping with a sharp pivot under way among Republicans, U.S. Representative Mark Meadows, speaking on CBS’ “Face the Nation,” drew a hard line on federal spending, which lawmakers are bracing to do battle over in January. When they return from the holidays on Wednesday, lawmakers will begin trying to pass a federal budget in a fight likely to be linked to other issues, such as immigration policy, even as the November congressional election campaigns approach in which Republicans will seek to keep control of Congress. President Donald Trump and his Republicans want a big budget increase in military spending, while Democrats also want proportional increases for non-defense “discretionary” spending on programs that support education, scientific research, infrastructure, public health and environmental protection. “The (Trump) administration has already been willing to say: ‘We’re going to increase non-defense discretionary spending ... by about 7 percent,’” Meadows, chairman of the small but influential House Freedom Caucus, said on the program. “Now, Democrats are saying that’s not enough, we need to give the government a pay raise of 10 to 11 percent. For a fiscal conservative, I don’t see where the rationale is. ... Eventually you run out of other people’s money,” he said. Meadows was among Republicans who voted in late December for their party’s debt-financed tax overhaul, which is expected to balloon the federal budget deficit and add about $1.5 trillion over 10 years to the $20 trillion national debt. “It’s interesting to hear Mark talk about fiscal responsibility,” Democratic U.S. Representative Joseph Crowley said on CBS. Crowley said the Republican tax bill would require the  United States to borrow $1.5 trillion, to be paid off by future generations, to finance tax cuts for corporations and the rich. “This is one of the least ... fiscally responsible bills we’ve ever seen passed in the history of the House of Representatives. I think we’re going to be paying for this for many, many years to come,” Crowley said. Republicans insist the tax package, the biggest U.S. tax overhaul in more than 30 years,  will boost the economy and job growth. House Speaker Paul Ryan, who also supported the tax bill, recently went further than Meadows, making clear in a radio interview that welfare or “entitlement reform,” as the party often calls it, would be a top Republican priority in 2018. In Republican parlance, “entitlement” programs mean food stamps, housing assistance, Medicare and Medicaid health insurance for the elderly, poor and disabled, as well as other programs created by Washington to assist the needy. Democrats seized on Ryan’s early December remarks, saying they showed Republicans would try to pay for their tax overhaul by seeking spending cuts for social programs. But the goals of House Republicans may have to take a back seat to the Senate, where the votes of some Democrats will be needed to approve a budget and prevent a government shutdown. Democrats will use their leverage in the Senate, which Republicans narrowly control, to defend both discretionary non-defense programs and social spending, while tackling the issue of the “Dreamers,” people brought illegally to the country as children. Trump in September put a March 2018 expiration date on the Deferred Action for Childhood Arrivals, or DACA, program, which protects the young immigrants from deportation and provides them with work permits. The president has said in recent Twitter messages he wants funding for his proposed Mexican border wall and other immigration law changes in exchange for agreeing to help the Dreamers. Representative Debbie Dingell told CBS she did not favor linking that issue to other policy objectives, such as wall funding. “We need to do DACA clean,” she said.  On Wednesday, Trump aides will meet with congressional leaders to discuss those issues. That will be followed by a weekend of strategy sessions for Trump and Republican leaders on Jan. 6 and 7, the White House said. Trump was also scheduled to meet on Sunday with Florida Republican Governor Rick Scott, who wants more emergency aid. The House has passed an $81 billion aid package after hurricanes in Florida, Texas and Puerto Rico, and wildfires in California. The package far exceeded the $44 billion requested by the Trump administration. The Senate has not yet voted on the aid. \n"
     ]
    },
    {
     "data": {
      "text/plain": [
       "Index(['title', 'text', 'subject', 'date'], dtype='object')"
      ]
     },
     "execution_count": 9,
     "metadata": {},
     "output_type": "execute_result"
    }
   ],
   "source": [
    "print(true_data['text'][0])\n",
    "true_data.columns"
   ]
  },
  {
   "cell_type": "markdown",
   "id": "8ef7ea0f-e5a3-46a2-b0d1-46250e5507ce",
   "metadata": {},
   "source": [
    "# FUNCTION USED:\n",
    "Here we use a function len() to find the length of the each dataset[true.csv,fake.csv]. "
   ]
  },
  {
   "cell_type": "code",
   "execution_count": 10,
   "id": "0b71d18d",
   "metadata": {},
   "outputs": [
    {
     "data": {
      "text/plain": [
       "21417"
      ]
     },
     "execution_count": 10,
     "metadata": {},
     "output_type": "execute_result"
    }
   ],
   "source": [
    "len(true_data)"
   ]
  },
  {
   "cell_type": "code",
   "execution_count": 11,
   "id": "0c53eb63",
   "metadata": {},
   "outputs": [
    {
     "data": {
      "text/plain": [
       "23481"
      ]
     },
     "execution_count": 11,
     "metadata": {},
     "output_type": "execute_result"
    }
   ],
   "source": [
    "len(fake_data)"
   ]
  },
  {
   "cell_type": "markdown",
   "id": "ccfbcf43-4b1c-434f-8428-dde86c857063",
   "metadata": {},
   "source": [
    "# LABELING & PREPROCESSING:\n",
    "    we used to labels the fake data as a numerical value 1,true data as a value 0."
   ]
  },
  {
   "cell_type": "code",
   "execution_count": 12,
   "id": "98276d27",
   "metadata": {},
   "outputs": [
    {
     "data": {
      "text/html": [
       "<div>\n",
       "<style scoped>\n",
       "    .dataframe tbody tr th:only-of-type {\n",
       "        vertical-align: middle;\n",
       "    }\n",
       "\n",
       "    .dataframe tbody tr th {\n",
       "        vertical-align: top;\n",
       "    }\n",
       "\n",
       "    .dataframe thead th {\n",
       "        text-align: right;\n",
       "    }\n",
       "</style>\n",
       "<table border=\"1\" class=\"dataframe\">\n",
       "  <thead>\n",
       "    <tr style=\"text-align: right;\">\n",
       "      <th></th>\n",
       "      <th>title</th>\n",
       "      <th>text</th>\n",
       "      <th>subject</th>\n",
       "      <th>date</th>\n",
       "      <th>label</th>\n",
       "    </tr>\n",
       "  </thead>\n",
       "  <tbody>\n",
       "    <tr>\n",
       "      <th>0</th>\n",
       "      <td>Donald Trump Sends Out Embarrassing New Year’...</td>\n",
       "      <td>Donald Trump just couldn t wish all Americans ...</td>\n",
       "      <td>News</td>\n",
       "      <td>December 31, 2017</td>\n",
       "      <td>1</td>\n",
       "    </tr>\n",
       "    <tr>\n",
       "      <th>1</th>\n",
       "      <td>Drunk Bragging Trump Staffer Started Russian ...</td>\n",
       "      <td>House Intelligence Committee Chairman Devin Nu...</td>\n",
       "      <td>News</td>\n",
       "      <td>December 31, 2017</td>\n",
       "      <td>1</td>\n",
       "    </tr>\n",
       "    <tr>\n",
       "      <th>2</th>\n",
       "      <td>Sheriff David Clarke Becomes An Internet Joke...</td>\n",
       "      <td>On Friday, it was revealed that former Milwauk...</td>\n",
       "      <td>News</td>\n",
       "      <td>December 30, 2017</td>\n",
       "      <td>1</td>\n",
       "    </tr>\n",
       "    <tr>\n",
       "      <th>3</th>\n",
       "      <td>Trump Is So Obsessed He Even Has Obama’s Name...</td>\n",
       "      <td>On Christmas day, Donald Trump announced that ...</td>\n",
       "      <td>News</td>\n",
       "      <td>December 29, 2017</td>\n",
       "      <td>1</td>\n",
       "    </tr>\n",
       "    <tr>\n",
       "      <th>4</th>\n",
       "      <td>Pope Francis Just Called Out Donald Trump Dur...</td>\n",
       "      <td>Pope Francis used his annual Christmas Day mes...</td>\n",
       "      <td>News</td>\n",
       "      <td>December 25, 2017</td>\n",
       "      <td>1</td>\n",
       "    </tr>\n",
       "  </tbody>\n",
       "</table>\n",
       "</div>"
      ],
      "text/plain": [
       "                                               title  \\\n",
       "0   Donald Trump Sends Out Embarrassing New Year’...   \n",
       "1   Drunk Bragging Trump Staffer Started Russian ...   \n",
       "2   Sheriff David Clarke Becomes An Internet Joke...   \n",
       "3   Trump Is So Obsessed He Even Has Obama’s Name...   \n",
       "4   Pope Francis Just Called Out Donald Trump Dur...   \n",
       "\n",
       "                                                text subject  \\\n",
       "0  Donald Trump just couldn t wish all Americans ...    News   \n",
       "1  House Intelligence Committee Chairman Devin Nu...    News   \n",
       "2  On Friday, it was revealed that former Milwauk...    News   \n",
       "3  On Christmas day, Donald Trump announced that ...    News   \n",
       "4  Pope Francis used his annual Christmas Day mes...    News   \n",
       "\n",
       "                date  label  \n",
       "0  December 31, 2017      1  \n",
       "1  December 31, 2017      1  \n",
       "2  December 30, 2017      1  \n",
       "3  December 29, 2017      1  \n",
       "4  December 25, 2017      1  "
      ]
     },
     "execution_count": 12,
     "metadata": {},
     "output_type": "execute_result"
    }
   ],
   "source": [
    "# Data preprocessing\n",
    "# Combine the two datasets and add labels\n",
    "fake_data[\"label\"] = 1\n",
    "true_data[\"label\"] = 0\n",
    "data = pd.concat([fake_data, true_data], ignore_index=True)\n",
    "data.head()"
   ]
  },
  {
   "cell_type": "markdown",
   "id": "fc4c2401-7970-4e5c-a0c3-ef2d2fc6f707",
   "metadata": {},
   "source": [
    "# REMOVING UNNECESSARY COLUMNS:\n",
    " In the above process,the data obtained after concatenation contains unnecessary columns like date and subject.In the upcoming process we remove those unnecessary columns which are not needed for processing of the fake news detection."
   ]
  },
  {
   "cell_type": "code",
   "execution_count": 13,
   "id": "9006b3fa",
   "metadata": {},
   "outputs": [
    {
     "data": {
      "text/html": [
       "<div>\n",
       "<style scoped>\n",
       "    .dataframe tbody tr th:only-of-type {\n",
       "        vertical-align: middle;\n",
       "    }\n",
       "\n",
       "    .dataframe tbody tr th {\n",
       "        vertical-align: top;\n",
       "    }\n",
       "\n",
       "    .dataframe thead th {\n",
       "        text-align: right;\n",
       "    }\n",
       "</style>\n",
       "<table border=\"1\" class=\"dataframe\">\n",
       "  <thead>\n",
       "    <tr style=\"text-align: right;\">\n",
       "      <th></th>\n",
       "      <th>title</th>\n",
       "      <th>text</th>\n",
       "      <th>label</th>\n",
       "    </tr>\n",
       "  </thead>\n",
       "  <tbody>\n",
       "    <tr>\n",
       "      <th>0</th>\n",
       "      <td>Donald Trump Sends Out Embarrassing New Year’...</td>\n",
       "      <td>Donald Trump just couldn t wish all Americans ...</td>\n",
       "      <td>1</td>\n",
       "    </tr>\n",
       "    <tr>\n",
       "      <th>1</th>\n",
       "      <td>Drunk Bragging Trump Staffer Started Russian ...</td>\n",
       "      <td>House Intelligence Committee Chairman Devin Nu...</td>\n",
       "      <td>1</td>\n",
       "    </tr>\n",
       "    <tr>\n",
       "      <th>2</th>\n",
       "      <td>Sheriff David Clarke Becomes An Internet Joke...</td>\n",
       "      <td>On Friday, it was revealed that former Milwauk...</td>\n",
       "      <td>1</td>\n",
       "    </tr>\n",
       "    <tr>\n",
       "      <th>3</th>\n",
       "      <td>Trump Is So Obsessed He Even Has Obama’s Name...</td>\n",
       "      <td>On Christmas day, Donald Trump announced that ...</td>\n",
       "      <td>1</td>\n",
       "    </tr>\n",
       "    <tr>\n",
       "      <th>4</th>\n",
       "      <td>Pope Francis Just Called Out Donald Trump Dur...</td>\n",
       "      <td>Pope Francis used his annual Christmas Day mes...</td>\n",
       "      <td>1</td>\n",
       "    </tr>\n",
       "  </tbody>\n",
       "</table>\n",
       "</div>"
      ],
      "text/plain": [
       "                                               title  \\\n",
       "0   Donald Trump Sends Out Embarrassing New Year’...   \n",
       "1   Drunk Bragging Trump Staffer Started Russian ...   \n",
       "2   Sheriff David Clarke Becomes An Internet Joke...   \n",
       "3   Trump Is So Obsessed He Even Has Obama’s Name...   \n",
       "4   Pope Francis Just Called Out Donald Trump Dur...   \n",
       "\n",
       "                                                text  label  \n",
       "0  Donald Trump just couldn t wish all Americans ...      1  \n",
       "1  House Intelligence Committee Chairman Devin Nu...      1  \n",
       "2  On Friday, it was revealed that former Milwauk...      1  \n",
       "3  On Christmas day, Donald Trump announced that ...      1  \n",
       "4  Pope Francis used his annual Christmas Day mes...      1  "
      ]
     },
     "execution_count": 13,
     "metadata": {},
     "output_type": "execute_result"
    }
   ],
   "source": [
    "# Remove unnecessary columns (e.g., date, subject)\n",
    "data.drop(columns=[\"date\", \"subject\"], inplace=True)\n",
    "data.head()"
   ]
  },
  {
   "cell_type": "code",
   "execution_count": 14,
   "id": "386ad98e",
   "metadata": {},
   "outputs": [
    {
     "name": "stdout",
     "output_type": "stream",
     "text": [
      "Index(['title', 'text', 'label'], dtype='object')\n"
     ]
    },
    {
     "data": {
      "text/html": [
       "<div>\n",
       "<style scoped>\n",
       "    .dataframe tbody tr th:only-of-type {\n",
       "        vertical-align: middle;\n",
       "    }\n",
       "\n",
       "    .dataframe tbody tr th {\n",
       "        vertical-align: top;\n",
       "    }\n",
       "\n",
       "    .dataframe thead th {\n",
       "        text-align: right;\n",
       "    }\n",
       "</style>\n",
       "<table border=\"1\" class=\"dataframe\">\n",
       "  <thead>\n",
       "    <tr style=\"text-align: right;\">\n",
       "      <th></th>\n",
       "      <th>title</th>\n",
       "      <th>text</th>\n",
       "      <th>label</th>\n",
       "    </tr>\n",
       "  </thead>\n",
       "  <tbody>\n",
       "    <tr>\n",
       "      <th>11093</th>\n",
       "      <td>THE VIEW Brings On Bill O’Reilly’s Sexual Hara...</td>\n",
       "      <td>The last accuser who could have been the nail ...</td>\n",
       "      <td>1</td>\n",
       "    </tr>\n",
       "    <tr>\n",
       "      <th>32211</th>\n",
       "      <td>A festival air, and unease, hang over pre-conv...</td>\n",
       "      <td>CLEVELAND (Reuters) - East 4th Street, emblema...</td>\n",
       "      <td>0</td>\n",
       "    </tr>\n",
       "    <tr>\n",
       "      <th>36442</th>\n",
       "      <td>U.N. chief says no alternative to two state so...</td>\n",
       "      <td>UNITED NATIONS (Reuters) - United Nations Secr...</td>\n",
       "      <td>0</td>\n",
       "    </tr>\n",
       "    <tr>\n",
       "      <th>19926</th>\n",
       "      <td>GRAB THE POPCORN! Queen Of Corruption DENIED S...</td>\n",
       "      <td>The Drudge Report has gained access to the rul...</td>\n",
       "      <td>1</td>\n",
       "    </tr>\n",
       "    <tr>\n",
       "      <th>35243</th>\n",
       "      <td>Venezuela may ban main opposition parties from...</td>\n",
       "      <td>CARACAS (Reuters) - Venezuela s pro-government...</td>\n",
       "      <td>0</td>\n",
       "    </tr>\n",
       "  </tbody>\n",
       "</table>\n",
       "</div>"
      ],
      "text/plain": [
       "                                                   title  \\\n",
       "11093  THE VIEW Brings On Bill O’Reilly’s Sexual Hara...   \n",
       "32211  A festival air, and unease, hang over pre-conv...   \n",
       "36442  U.N. chief says no alternative to two state so...   \n",
       "19926  GRAB THE POPCORN! Queen Of Corruption DENIED S...   \n",
       "35243  Venezuela may ban main opposition parties from...   \n",
       "\n",
       "                                                    text  label  \n",
       "11093  The last accuser who could have been the nail ...      1  \n",
       "32211  CLEVELAND (Reuters) - East 4th Street, emblema...      0  \n",
       "36442  UNITED NATIONS (Reuters) - United Nations Secr...      0  \n",
       "19926  The Drudge Report has gained access to the rul...      1  \n",
       "35243  CARACAS (Reuters) - Venezuela s pro-government...      0  "
      ]
     },
     "execution_count": 14,
     "metadata": {},
     "output_type": "execute_result"
    }
   ],
   "source": [
    "\n",
    "random_permutation = np.random.permutation(len(data))\n",
    "data= data.iloc[random_permutation]\n",
    "print(data.columns)\n",
    "data.head()"
   ]
  },
  {
   "cell_type": "code",
   "execution_count": 15,
   "id": "0960ea3e",
   "metadata": {},
   "outputs": [
    {
     "data": {
      "text/html": [
       "<div>\n",
       "<style scoped>\n",
       "    .dataframe tbody tr th:only-of-type {\n",
       "        vertical-align: middle;\n",
       "    }\n",
       "\n",
       "    .dataframe tbody tr th {\n",
       "        vertical-align: top;\n",
       "    }\n",
       "\n",
       "    .dataframe thead th {\n",
       "        text-align: right;\n",
       "    }\n",
       "</style>\n",
       "<table border=\"1\" class=\"dataframe\">\n",
       "  <thead>\n",
       "    <tr style=\"text-align: right;\">\n",
       "      <th></th>\n",
       "      <th>title</th>\n",
       "      <th>text</th>\n",
       "      <th>label</th>\n",
       "    </tr>\n",
       "  </thead>\n",
       "  <tbody>\n",
       "    <tr>\n",
       "      <th>11093</th>\n",
       "      <td>THE VIEW Brings On Bill O’Reilly’s Sexual Hara...</td>\n",
       "      <td>The last accuser who could have been the nail ...</td>\n",
       "      <td>1</td>\n",
       "    </tr>\n",
       "    <tr>\n",
       "      <th>32211</th>\n",
       "      <td>A festival air, and unease, hang over pre-conv...</td>\n",
       "      <td>CLEVELAND (Reuters) - East 4th Street, emblema...</td>\n",
       "      <td>0</td>\n",
       "    </tr>\n",
       "    <tr>\n",
       "      <th>36442</th>\n",
       "      <td>U.N. chief says no alternative to two state so...</td>\n",
       "      <td>UNITED NATIONS (Reuters) - United Nations Secr...</td>\n",
       "      <td>0</td>\n",
       "    </tr>\n",
       "    <tr>\n",
       "      <th>19926</th>\n",
       "      <td>GRAB THE POPCORN! Queen Of Corruption DENIED S...</td>\n",
       "      <td>The Drudge Report has gained access to the rul...</td>\n",
       "      <td>1</td>\n",
       "    </tr>\n",
       "    <tr>\n",
       "      <th>35243</th>\n",
       "      <td>Venezuela may ban main opposition parties from...</td>\n",
       "      <td>CARACAS (Reuters) - Venezuela s pro-government...</td>\n",
       "      <td>0</td>\n",
       "    </tr>\n",
       "  </tbody>\n",
       "</table>\n",
       "</div>"
      ],
      "text/plain": [
       "                                                   title  \\\n",
       "11093  THE VIEW Brings On Bill O’Reilly’s Sexual Hara...   \n",
       "32211  A festival air, and unease, hang over pre-conv...   \n",
       "36442  U.N. chief says no alternative to two state so...   \n",
       "19926  GRAB THE POPCORN! Queen Of Corruption DENIED S...   \n",
       "35243  Venezuela may ban main opposition parties from...   \n",
       "\n",
       "                                                    text  label  \n",
       "11093  The last accuser who could have been the nail ...      1  \n",
       "32211  CLEVELAND (Reuters) - East 4th Street, emblema...      0  \n",
       "36442  UNITED NATIONS (Reuters) - United Nations Secr...      0  \n",
       "19926  The Drudge Report has gained access to the rul...      1  \n",
       "35243  CARACAS (Reuters) - Venezuela s pro-government...      0  "
      ]
     },
     "execution_count": 15,
     "metadata": {},
     "output_type": "execute_result"
    }
   ],
   "source": [
    "filterd_data=data.loc[:, ['title', 'text', 'label']]\n",
    "filterd_data.head()"
   ]
  },
  {
   "cell_type": "code",
   "execution_count": 16,
   "id": "6f458ef5",
   "metadata": {},
   "outputs": [
    {
     "data": {
      "text/plain": [
       "title    0\n",
       "text     0\n",
       "label    0\n",
       "dtype: int64"
      ]
     },
     "execution_count": 16,
     "metadata": {},
     "output_type": "execute_result"
    }
   ],
   "source": [
    "filterd_data.isnull().sum()"
   ]
  },
  {
   "cell_type": "code",
   "execution_count": 17,
   "id": "3c7b4499",
   "metadata": {},
   "outputs": [],
   "source": [
    "# Text preprocessing (e.g., lowercase, remove special characters, stop words, stemming)\n",
    "stop_words = set(stopwords.words(\"english\"))\n",
    "stemmer = PorterStemmer()"
   ]
  },
  {
   "cell_type": "code",
   "execution_count": 19,
   "id": "a21c6114",
   "metadata": {},
   "outputs": [],
   "source": [
    "def preprocess_text(text):\n",
    "    text = text.lower()\n",
    "    text = re.sub(r'[^a-zA-Z]', ' ', text)\n",
    "    words = text.split()\n",
    "    words = [word for word in words if word not in stop_words]\n",
    "    words = [stemmer.stem(word) for word in words]\n",
    "    return ' '.join(words)"
   ]
  },
  {
   "cell_type": "code",
   "execution_count": 20,
   "id": "a3c10184",
   "metadata": {},
   "outputs": [],
   "source": [
    "filterd_data[\"title\"] = filterd_data[\"title\"].apply(preprocess_text)\n",
    "filterd_data[\"text\"] = filterd_data[\"text\"].apply(preprocess_text)\n"
   ]
  },
  {
   "cell_type": "code",
   "execution_count": 21,
   "id": "a975d00c",
   "metadata": {
    "scrolled": true
   },
   "outputs": [
    {
     "name": "stdout",
     "output_type": "stream",
     "text": [
      "                                                   title  \\\n",
      "11093  view bring bill reilli sexual harass accus rea...   \n",
      "32211        festiv air uneas hang pre convent cleveland   \n",
      "36442    u n chief say altern two state solut middl east   \n",
      "19926  grab popcorn queen corrupt deni special treatm...   \n",
      "35243  venezuela may ban main opposit parti president...   \n",
      "\n",
      "                                                    text  label  \n",
      "11093  last accus could nail coffin bill reilli spoke...      1  \n",
      "32211  cleveland reuter east th street emblemat new c...      0  \n",
      "36442  unit nation reuter unit nation secretari gener...      0  \n",
      "19926  drudg report gain access rule upcom mega debat...      1  \n",
      "35243  caraca reuter venezuela pro govern legisl supe...      0  \n"
     ]
    }
   ],
   "source": [
    "print(filterd_data.head())"
   ]
  },
  {
   "cell_type": "markdown",
   "id": "23a9ef51-0ce4-4118-a77f-f9d8bcd72b58",
   "metadata": {},
   "source": []
  },
  {
   "cell_type": "markdown",
   "id": "c2125ebc-5ad7-4904-9e89-dc6bf2be9a98",
   "metadata": {},
   "source": [
    "# CREATING A MODEL USING DEEP LEARNING MODEL LSTM :\n",
    "Now we are going To create a deep learning model for text classification using an LSTM (Long Short-Term Memory) architecture, you can follow these steps using Python and popular libraries like TensorFlow and Keras. Assuming you have the \"filterd_data\" dataset, you can preprocess and build a model as follows:"
   ]
  },
  {
   "cell_type": "code",
   "execution_count": 25,
   "id": "8e7ebd1c",
   "metadata": {},
   "outputs": [],
   "source": [
    "import pandas as pd\n",
    "import numpy as np\n",
    "import tensorflow as tf\n",
    "from tensorflow.keras.preprocessing.text import Tokenizer\n",
    "from tensorflow.keras.preprocessing.sequence import pad_sequences\n",
    "from sklearn.model_selection import train_test_split\n",
    "from sklearn.metrics import accuracy_score, classification_report, confusion_matrix"
   ]
  },
  {
   "cell_type": "markdown",
   "id": "819bae97-2c5a-4a10-b6fc-57382bddfdf7",
   "metadata": {},
   "source": [
    "#Defining hyperparameters : \n",
    "              For your deep learning model is a crucial step in the model development process. Hyperparameters are settings that control the behavior and performance of your model. Finding the right hyperparameters can significantly impact the model's accuracy and generalization."
   ]
  },
  {
   "cell_type": "code",
   "execution_count": 26,
   "id": "83dc42a5",
   "metadata": {},
   "outputs": [],
   "source": [
    "# Define hyperparameters\n",
    "max_words = 10000  # Maximum number of words to consider in the tokenizer\n",
    "max_sequence_length = 100  # Maximum length of input sequences\n",
    "embedding_dim = 100  # Dimension of the word embeddings\n",
    "batch_size = 64\n",
    "epochs = 10"
   ]
  },
  {
   "cell_type": "code",
   "execution_count": 27,
   "id": "311c883d",
   "metadata": {},
   "outputs": [],
   "source": [
    "# Tokenize the text\n",
    "tokenizer = Tokenizer(num_words=max_words)\n",
    "tokenizer.fit_on_texts(filterd_data['text'])\n",
    "sequences = tokenizer.texts_to_sequences(filterd_data['text'])\n",
    "X = pad_sequences(sequences, maxlen=max_sequence_length)\n",
    "y = filterd_data['label']"
   ]
  },
  {
   "cell_type": "code",
   "execution_count": 28,
   "id": "6c883308",
   "metadata": {},
   "outputs": [],
   "source": [
    "# Split the dataset into training and testing sets\n",
    "X_train, X_test, y_train, y_test = train_test_split(X, y, test_size=0.2, random_state=42)"
   ]
  },
  {
   "cell_type": "code",
   "execution_count": 29,
   "id": "daf25ad8-ffed-4e93-a856-66755ae5dd9c",
   "metadata": {},
   "outputs": [],
   "source": [
    "# Build the LSTM model\n",
    "model = tf.keras.Sequential([\n",
    "    tf.keras.layers.Embedding(input_dim=max_words, output_dim=embedding_dim, input_length=max_sequence_length),\n",
    "    tf.keras.layers.LSTM(128),  # You can adjust the number of LSTM units as needed\n",
    "    tf.keras.layers.Dense(1, activation='sigmoid')\n",
    "])"
   ]
  },
  {
   "cell_type": "code",
   "execution_count": 30,
   "id": "3a900052-83cd-4f0b-8153-598c9051a4e8",
   "metadata": {},
   "outputs": [],
   "source": [
    "# Compile the model\n",
    "model.compile(optimizer='adam', loss='binary_crossentropy', metrics=['accuracy'])"
   ]
  },
  {
   "cell_type": "code",
   "execution_count": 31,
   "id": "98eb4134-93a9-421a-be9f-57c0e0f12075",
   "metadata": {},
   "outputs": [
    {
     "name": "stdout",
     "output_type": "stream",
     "text": [
      "Epoch 1/10\n",
      "506/506 [==============================] - 271s 494ms/step - loss: 0.1120 - accuracy: 0.9619 - val_loss: 0.0535 - val_accuracy: 0.9830\n",
      "Epoch 2/10\n",
      "506/506 [==============================] - 252s 497ms/step - loss: 0.0294 - accuracy: 0.9910 - val_loss: 0.0448 - val_accuracy: 0.9869\n",
      "Epoch 3/10\n",
      "506/506 [==============================] - 259s 511ms/step - loss: 0.0183 - accuracy: 0.9944 - val_loss: 0.0571 - val_accuracy: 0.9836\n",
      "Epoch 4/10\n",
      "506/506 [==============================] - 261s 516ms/step - loss: 0.0118 - accuracy: 0.9967 - val_loss: 0.0609 - val_accuracy: 0.9850\n",
      "Epoch 5/10\n",
      "506/506 [==============================] - 251s 496ms/step - loss: 0.0082 - accuracy: 0.9973 - val_loss: 0.0645 - val_accuracy: 0.9855\n",
      "Epoch 6/10\n",
      "506/506 [==============================] - 249s 492ms/step - loss: 0.0044 - accuracy: 0.9988 - val_loss: 0.0755 - val_accuracy: 0.9855\n",
      "Epoch 7/10\n",
      "506/506 [==============================] - 274s 542ms/step - loss: 0.0029 - accuracy: 0.9993 - val_loss: 0.0700 - val_accuracy: 0.9855\n",
      "Epoch 8/10\n",
      "506/506 [==============================] - 257s 507ms/step - loss: 0.0057 - accuracy: 0.9981 - val_loss: 0.0759 - val_accuracy: 0.9841\n",
      "Epoch 9/10\n",
      "506/506 [==============================] - 260s 513ms/step - loss: 0.0111 - accuracy: 0.9963 - val_loss: 0.0984 - val_accuracy: 0.9813\n",
      "Epoch 10/10\n",
      "506/506 [==============================] - 257s 509ms/step - loss: 0.0051 - accuracy: 0.9986 - val_loss: 0.0677 - val_accuracy: 0.9841\n"
     ]
    },
    {
     "data": {
      "text/plain": [
       "<keras.src.callbacks.History at 0x16d67dc90c0>"
      ]
     },
     "execution_count": 31,
     "metadata": {},
     "output_type": "execute_result"
    }
   ],
   "source": [
    "# Train the model\n",
    "model.fit(X_train, y_train, batch_size=batch_size, epochs=epochs, validation_split=0.1)\n"
   ]
  },
  {
   "cell_type": "code",
   "execution_count": 32,
   "id": "409a657c-ebf3-463b-babc-b03a2a12d3d4",
   "metadata": {},
   "outputs": [
    {
     "name": "stdout",
     "output_type": "stream",
     "text": [
      "281/281 [==============================] - 34s 115ms/step\n"
     ]
    }
   ],
   "source": [
    "# Evaluate the model\n",
    "y_pred = model.predict(X_test)\n",
    "y_pred_binary = (y_pred > 0.5).astype(int)\n",
    "accuracy = accuracy_score(y_test, y_pred_binary)\n",
    "conf_matrix = confusion_matrix(y_test, y_pred_binary)\n",
    "class_report = classification_report(y_test, y_pred_binary)\n"
   ]
  },
  {
   "cell_type": "code",
   "execution_count": 33,
   "id": "f6fd088c-1186-4bc7-8d75-d1afd3ba9dbc",
   "metadata": {},
   "outputs": [
    {
     "name": "stdout",
     "output_type": "stream",
     "text": [
      "Accuracy: 0.9838530066815144\n",
      "Confusion Matrix:\n",
      "[[4165   92]\n",
      " [  53 4670]]\n",
      "Classification Report:\n",
      "              precision    recall  f1-score   support\n",
      "\n",
      "           0       0.99      0.98      0.98      4257\n",
      "           1       0.98      0.99      0.98      4723\n",
      "\n",
      "    accuracy                           0.98      8980\n",
      "   macro avg       0.98      0.98      0.98      8980\n",
      "weighted avg       0.98      0.98      0.98      8980\n",
      "\n"
     ]
    }
   ],
   "source": [
    "print(f'Accuracy: {accuracy}')\n",
    "print(f'Confusion Matrix:\\n{conf_matrix}')\n",
    "print(f'Classification Report:\\n{class_report}')"
   ]
  },
  {
   "cell_type": "markdown",
   "id": "2d3402ce-b70d-4815-bd8e-ec0c44c19cda",
   "metadata": {},
   "source": [
    "Replace 'your_dataset.csv' with the actual file path to your dataset containing the 'text' and 'label' columns. This code snippet preprocesses the text data, builds an LSTM-based neural network, trains it, and evaluates its performance.\n",
    "\n",
    "# Make sure to install TensorFlow and other necessary libraries if you haven't already:"
   ]
  },
  {
   "cell_type": "raw",
   "id": "3e22897e-17b6-4794-aca8-94101a9a5ace",
   "metadata": {},
   "source": [
    "pip install tensorflow scikit-learn"
   ]
  },
  {
   "cell_type": "markdown",
   "id": "607603d6-9d66-4d44-8641-8977cee58c73",
   "metadata": {},
   "source": [
    "# CONCLUSION:\n",
    " In conclusion,The Phase 2 of our innovation for fake news detection using Natural Language Processing (NLP) has been a significant step forward in our efforts to combat the spread of misinformation and disinformation. This phase has brought us closer to building an effective and robust fake news detection system"
   ]
  },
  {
   "cell_type": "markdown",
   "id": "dccd6b2d-5705-4c10-b708-9c97298bef33",
   "metadata": {},
   "source": [
    "                                                         ************"
   ]
  }
 ],
 "metadata": {
  "kernelspec": {
   "display_name": "Python 3 (ipykernel)",
   "language": "python",
   "name": "python3"
  },
  "language_info": {
   "codemirror_mode": {
    "name": "ipython",
    "version": 3
   },
   "file_extension": ".py",
   "mimetype": "text/x-python",
   "name": "python",
   "nbconvert_exporter": "python",
   "pygments_lexer": "ipython3",
   "version": "3.10.9"
  }
 },
 "nbformat": 4,
 "nbformat_minor": 5
}
